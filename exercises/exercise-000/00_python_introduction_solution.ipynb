{
 "cells": [
  {
   "cell_type": "markdown",
   "id": "9107b2bc",
   "metadata": {},
   "source": [
    "# Exercise set 0\n",
    "\n",
    "This exercise set contains some short Python exercises. Parts 1 to 3 can be a bit boring(?), and you can\n",
    "skip this if you are familiar with Python and NumPy. If you are unfamiliar with plotting, it might be easier\n",
    "to do part 5 before part 4.\n",
    "\n",
    "- [Part 1: Python basics](#Part-1:-Python-basics)\n",
    "- [Part 2: Text and some math](#Part-2:-Text-and-some-math)\n",
    "- [Part 3: NumPy basics](#Part-3:-NumPy-basics)\n",
    "- [Part 4: Reading data and plotting](#Part-4:-Reading-data-and-plotting)\n",
    "- [Part 5: A short introduction to Pandas, NumPy, and Matplotlib](#Part-5:-A-short-introduction-to-Pandas,-NumPy,-and-Matplotlib)\n",
    "- [Part 6: Using pandas on penguins](#Part-6:-Using-pandas-on-penguins)\n",
    "\n",
    "If you need to download the data files for this exercise, you can do this by executing the cell below:"
   ]
  },
  {
   "cell_type": "code",
   "execution_count": null,
   "id": "ac006340",
   "metadata": {},
   "outputs": [],
   "source": [
    "!wget https://raw.githubusercontent.com/andersle/chemometrics/main/exercises/exercise-000/bill.png\n",
    "!wget https://raw.githubusercontent.com/andersle/chemometrics/main/exercises/exercise-000/box.png\n",
    "!wget https://raw.githubusercontent.com/andersle/chemometrics/main/exercises/exercise-000/penguins.csv\n",
    "!wget https://raw.githubusercontent.com/andersle/chemometrics/main/exercises/exercise-000/rate_constant.xlsx\n",
    "!wget https://raw.githubusercontent.com/andersle/chemometrics/main/exercises/exercise-000/somedata1.txt\n",
    "!wget https://raw.githubusercontent.com/andersle/chemometrics/main/exercises/exercise-000/somedata2.txt"
   ]
  },
  {
   "cell_type": "markdown",
   "id": "c54def27",
   "metadata": {},
   "source": [
    "## Part 1: Python basics"
   ]
  },
  {
   "cell_type": "code",
   "execution_count": null,
   "id": "2c66d838",
   "metadata": {},
   "outputs": [],
   "source": [
    "# 1. Write a code that prints \"Hello world!\":\n",
    "print(\"Hello world!\")"
   ]
  },
  {
   "cell_type": "code",
   "execution_count": null,
   "id": "a72ae8b4",
   "metadata": {},
   "outputs": [],
   "source": [
    "# 2. Write a code that prints out \"Hello world!\" 10 times using a for loop:\n",
    "for i in range(10):\n",
    "    print(\"Hello world!\")"
   ]
  },
  {
   "cell_type": "code",
   "execution_count": null,
   "id": "1cd4318d",
   "metadata": {},
   "outputs": [],
   "source": [
    "# 3. Write a code that prints out \"Hello world!\" 10 times using a for loop plus the iteration number.\n",
    "# That is, your code should print out:\n",
    "# \"Hello world! 0\"\n",
    "# \"Hello world! 1\"\n",
    "# \"Hello world! 2\"\n",
    "# and so on ...:\n",
    "for i in range(10):\n",
    "    print(f\"Hello world! {i}\")  # Here we use a f-string for formatting"
   ]
  },
  {
   "cell_type": "code",
   "execution_count": null,
   "id": "a6366d91",
   "metadata": {},
   "outputs": [],
   "source": [
    "# 4.1 Make a list containing the numbers 1, 6, and 5:\n",
    "lst = [1, 6, 5]\n",
    "print(lst)\n",
    "\n",
    "# 4.2 Append the number 2 to this list:\n",
    "lst.append(2)\n",
    "print(lst)\n",
    "\n",
    "# 4.3 Print out the length of the list (Hint: make use of the len() method):\n",
    "print(f\"Length of the list: {len(lst)}\")\n",
    "\n",
    "# 4.4 Sort the list (from small to large):\n",
    "lst_sorted = sorted(lst)\n",
    "print(\"Sorted:\")\n",
    "print(lst_sorted)"
   ]
  },
  {
   "cell_type": "code",
   "execution_count": null,
   "id": "b88e08dc",
   "metadata": {},
   "outputs": [],
   "source": [
    "# 5. Consider the following list:\n",
    "\n",
    "lst = [1, 1, 1, 3, 2, 1, 3, 3, 3, 2, 2, 2, 4]\n",
    "\n",
    "# 5.1 Access the first item in the list, print it, and change it to 14:\n",
    "first = lst[0]\n",
    "print(f\"First is {first}\")\n",
    "lst[0] = 14\n",
    "first_now = lst[0]\n",
    "print(f\"First is {first_now}\")\n",
    "print(\"The list is:\", lst)\n",
    "\n",
    "# 5.2 Create a new list, containing just the 4 first elements from \"lst\":\n",
    "first_four = lst[:4]\n",
    "print(\"First four:\", first_four)\n",
    "\n",
    "# 5.3 Create a new list containing the 4 last elements from \"lst\":\n",
    "last_four = lst[-4:]\n",
    "print(\"Last four:\", last_four)\n",
    "\n",
    "# 5.4 Create a new list containing every second element from \"lst\":\n",
    "every_second = lst[::2]\n",
    "print(\"Every second item\", every_second)\n",
    "\n",
    "# 5.5 Create a new list containing the elements from \"lst\", but in reversed order:\n",
    "\n",
    "# Two options:\n",
    "rev_lst = list(reversed(lst))\n",
    "print(\"Reversed:\", rev_lst)\n",
    "\n",
    "rev_lst2 = lst[::-1]  # All items from the list but with a step of -1\n",
    "print(\"Reversed:\", rev_lst2)"
   ]
  },
  {
   "cell_type": "code",
   "execution_count": null,
   "id": "2e195d9d",
   "metadata": {},
   "outputs": [],
   "source": [
    "# 6. Make a list containing the numbers from 11 to (and including) 20 (that is 11, 12, ..., 20) \n",
    "# using a for loop:\n",
    "numbers = []\n",
    "for i in range(11, 21):\n",
    "    numbers.append(i)\n",
    "print(\"Numbers:\", numbers)\n",
    "# Or without the for loop:\n",
    "numbers2 = list(range(11, 21))\n",
    "print(\"Numbers:\", numbers2)"
   ]
  },
  {
   "cell_type": "code",
   "execution_count": null,
   "id": "ab1f4d19",
   "metadata": {},
   "outputs": [],
   "source": [
    "# 7. Write a code that determines if a number is greater than 100 using an if statement:\n",
    "test_number = 101\n",
    "\n",
    "if test_number > 100:\n",
    "    is_greater_than_100 = True\n",
    "else:\n",
    "    is_greater_than_100 = False\n",
    "\n",
    "print(f\"{test_number} > 100: {is_greater_than_100}\")\n",
    "\n",
    "# Or shorter:\n",
    "is_greater_than_100 = test_number > 100\n",
    "print(f\"{test_number} > 100: {is_greater_than_100}\")"
   ]
  },
  {
   "cell_type": "code",
   "execution_count": null,
   "id": "f261906d",
   "metadata": {},
   "outputs": [],
   "source": [
    "# 8. Write a method that determines if a number is greater than 100 using an if statement.\n",
    "# The method should take in a single number and return the string \"yes\"\n",
    "# if the number is greater than 100 and the string \"no\" otherwise.\n",
    "# Add some documentation that explains briefly what the method does.\n",
    "# Here is an example of what this documentation could look like:\n",
    "\n",
    "\n",
    "def is_even(x):\n",
    "    \"\"\"Determine if x is an even number.\"\"\"\n",
    "    return x % 2\n",
    "\n",
    "\n",
    "def is_greater_than_100(x):\n",
    "    \"\"\"Determine if x > 100\"\"\"\n",
    "    if x > 100:\n",
    "        return \"yes\"\n",
    "    else:\n",
    "        return \"no\""
   ]
  },
  {
   "cell_type": "code",
   "execution_count": null,
   "id": "f3f9f87d",
   "metadata": {},
   "outputs": [],
   "source": [
    "# 9. Apply the method you just created to the numbers in the following list:\n",
    "\n",
    "lst = [1, 10, 99, 100, 101, 1000]\n",
    "\n",
    "# and store the results (\"yes\"/\"no\") in a new list. Count the number of \"yes\" items and \"no\" items in this list:\n",
    "\n",
    "result = [is_greater_than_100(i) for i in lst]\n",
    "print(result)\n",
    "\n",
    "print(\"no:\", result.count(\"no\"))\n",
    "print(\"yes:\", result.count(\"yes\"))"
   ]
  },
  {
   "cell_type": "code",
   "execution_count": null,
   "id": "f4e30d9d",
   "metadata": {},
   "outputs": [],
   "source": [
    "# 10. Consider the following list:\n",
    "\n",
    "lst = [1, 1, 1, 3, 2, 1, 3, 3, 3, 2, 2, 2, 4]\n",
    "\n",
    "# How many unique elements are there in this list - and what are they?\n",
    "# (Hint: consider converting the list to a Python set)\n",
    "\n",
    "# A set will just contain the unique items, so we just print out the list converted to a set:\n",
    "print(set(lst))"
   ]
  },
  {
   "cell_type": "code",
   "execution_count": null,
   "id": "9f0280d5",
   "metadata": {},
   "outputs": [],
   "source": [
    "# 11. Consider the following dictionary with names of some animals:\n",
    "\n",
    "my_dict = {\n",
    "    \"cat\": [\"Luna\", \"Simba\", \"Prince Tigerius Mahmoud Shabazz\"],\n",
    "    \"dog\": [\"Rex\", \"Rudy\", \"Milo\", \"Lassie\"],\n",
    "}\n",
    "\n",
    "# 11.1 Loop over this dictionary and print out the type of animal and the corresponding names:\n",
    "\n",
    "for key, val in my_dict.items():\n",
    "    print(f\"Animal = {key}\")\n",
    "    print(\"Names:\")\n",
    "    for name in val:\n",
    "        print(f\"\\t- {name}\")\n",
    "    print()\n",
    "\n",
    "# 11.2 Add some names for otters:\n",
    "my_dict[\"otter\"] = [\"Lutra\", \"Oswald\", \"Ollie\"]\n",
    "\n",
    "# 11.3 Add a cat name and a dog name, and print out the number of names stored in the dictionary for\n",
    "# each animal:\n",
    "my_dict[\"cat\"].append(\"Garfield\")\n",
    "my_dict[\"dog\"].append(\"Seymour\")\n",
    "for key in my_dict:\n",
    "    print(f\"Animal = {key}\")\n",
    "    print(\"\\tNames:\", my_dict[key])\n",
    "    print(\"\\tNo. of names\", len(my_dict[key]))"
   ]
  },
  {
   "cell_type": "code",
   "execution_count": null,
   "id": "27cb3c65",
   "metadata": {},
   "outputs": [],
   "source": [
    "# 12. Consider the following dictionary:\n",
    "\n",
    "yes_no = {\"yes\": [], \"no\": []}\n",
    "\n",
    "# Use your method for determining if a number is greater than 100 on the items in the\n",
    "# following list:\n",
    "\n",
    "lst = [1, 10, 99, 100, 101, 1000]\n",
    "\n",
    "# and:\n",
    "# - add the \"yes\" numbers to the \"yes\" list in the dictionary,\n",
    "# - add the \"no\" numbers to the \"no\" list in the dictionary:\n",
    "for i in lst:\n",
    "    result = is_greater_than_100(i)\n",
    "    yes_no[result].append(i)\n",
    "print(yes_no)"
   ]
  },
  {
   "cell_type": "markdown",
   "id": "487883fe",
   "metadata": {},
   "source": [
    "## Part 2: Text and some math"
   ]
  },
  {
   "cell_type": "code",
   "execution_count": null,
   "id": "079135ec",
   "metadata": {},
   "outputs": [],
   "source": [
    "# 1. We have the following variable:\n",
    "\n",
    "text = \"everyone\"\n",
    "\n",
    "# and the following print statement:\n",
    "\n",
    "print(\"Good news, !\")\n",
    "\n",
    "# Modify this print statement (using a Python f-string) so that it prints out\n",
    "# Good news, everyone!\n",
    "# that is, modify it so that it inserts the value in the variable \"text\" after the \",\".\n",
    "\n",
    "print(f\"Good news, {text}!\")"
   ]
  },
  {
   "cell_type": "code",
   "execution_count": null,
   "id": "2f28e556",
   "metadata": {},
   "outputs": [],
   "source": [
    "# 2. We are printing out the result of a calculation:\n",
    "\n",
    "result = 1.2288767781234\n",
    "\n",
    "print(f\"The number is {result}\")\n",
    "\n",
    "# modify the print statement above so that we print out just two digits after the decimal sign.\n",
    "print(f\"The number is {result:.2f}\")"
   ]
  },
  {
   "cell_type": "code",
   "execution_count": null,
   "id": "5379e71c",
   "metadata": {},
   "outputs": [],
   "source": [
    "# 3. Consider the following string:\n",
    "\n",
    "text = \"The value you are looking for is: 1234.567 millidooms\"\n",
    "\n",
    "# extract the number 1234.567 from this string using the \"split()\" method of strings\n",
    "\n",
    "number = float(text.split(\":\")[1].split()[0])\n",
    "print(number)\n",
    "\n",
    "# or\n",
    "number = float(text.split()[7])\n",
    "print(number)"
   ]
  },
  {
   "cell_type": "code",
   "execution_count": null,
   "id": "f240f9eb",
   "metadata": {},
   "outputs": [],
   "source": [
    "# 4. Consider the following string:\n",
    "\n",
    "text = \"NIR.920 nm\"\n",
    "\n",
    "# This string contains a wavelength (920) in units of nanometers (nm).\n",
    "# Extract the number 920 from this string, convert it to a number,\n",
    "# and store it in a new variable:\n",
    "\n",
    "# With split:\n",
    "number = float(text.split()[0].split(\".\")[1])\n",
    "print(number)\n",
    "\n",
    "# With regex\n",
    "import re\n",
    "\n",
    "number2 = float(re.findall(\"[0-9]+\", text)[0])\n",
    "print(number2)"
   ]
  },
  {
   "cell_type": "code",
   "execution_count": null,
   "id": "5744e2a8",
   "metadata": {},
   "outputs": [],
   "source": [
    "# 5. Consider the following list of strings that contains wavelengths (similar to the string above):\n",
    "\n",
    "lst = [\"NIR.900 nm\", \"NIR.902 nm\", \"NIR.905 nm\", \"NIR.920 nm\"]\n",
    "\n",
    "# Extract the wavelengths (900, 902, 905, 920) from this list and store them in a\n",
    "# new list (containing just the numbers).\n",
    "\n",
    "wave = [float(i.split()[0].split(\".\")[1]) for i in lst]\n",
    "wave"
   ]
  },
  {
   "cell_type": "code",
   "execution_count": null,
   "id": "973926d3",
   "metadata": {},
   "outputs": [],
   "source": [
    "# 6. Consider the following list of numbers:\n",
    "\n",
    "x = [1, 2, 4, 16]\n",
    "\n",
    "# 6.1. Calculate the exponential of these numbers (exp(x)) and store that in a new variable y.\n",
    "import numpy as np\n",
    "\n",
    "y = np.exp(x)\n",
    "print(\"exp(x) =\", y)\n",
    "\n",
    "# 6.2. Calculate the natural logarithm of the values in y.\n",
    "z = np.log(y)\n",
    "print(\"z = ln(exp(x)) =\", z)\n",
    "\n",
    "# Hint: This can be solved by importing relevant functions from the math library or the NumPy library."
   ]
  },
  {
   "cell_type": "code",
   "execution_count": null,
   "id": "cc1d289f",
   "metadata": {},
   "outputs": [],
   "source": [
    "# 7. Consider these two snippets of code:\n",
    "\n",
    "# Code 1:\n",
    "x = []\n",
    "for i in range(1, 8):\n",
    "    if i % 2 == 0:\n",
    "        x.append(f\"{i}: even\")\n",
    "    else:\n",
    "        x.append(f\"{i}: odd\")\n",
    "\n",
    "# Code 2:\n",
    "x = [f\"{i}: even\" if i % 2 == 0 else f\"{i}: odd\" for i in range(1, 8)]\n",
    "\n",
    "# 7.1. Is the result of Code 1 and Code 2 different?\n",
    "# They are the same!\n",
    "\n",
    "# 7.2. The syntax we use for creating the list in Code 2 is given a special name in Python.\n",
    "# What do we call this?\n",
    "# This is an example of a list comprehension."
   ]
  },
  {
   "cell_type": "code",
   "execution_count": null,
   "id": "5cc0cc72",
   "metadata": {},
   "outputs": [],
   "source": [
    "# 8. Consider the following list:\n",
    "\n",
    "lst = [1, 2, 3, 4, 5, 6]\n",
    "\n",
    "# 8.1. Create a new list that contains the squared of each number in \"lst\":\n",
    "lstsq = [i**2 for i in lst]\n",
    "print(lstsq)\n",
    "\n",
    "# 8.2. Create a new list that contains the numbers in \"lst\" (each one) divided by 3:\n",
    "lstd = [i / 3 for i in lst]\n",
    "print(lstd)\n",
    "\n",
    "# NumPy version:\n",
    "lst2 = np.array([1, 2, 3, 4, 5, 6]) # Make a numpy array from the original list\n",
    "lstsq_2 = lst2**2\n",
    "print(lstsq_2)\n",
    "\n",
    "lstd2 = lst2 / 3\n",
    "print(lstd2)"
   ]
  },
  {
   "cell_type": "markdown",
   "id": "45d6f988",
   "metadata": {},
   "source": [
    "## Part 3: NumPy basics"
   ]
  },
  {
   "cell_type": "code",
   "execution_count": null,
   "id": "ea96481b",
   "metadata": {},
   "outputs": [],
   "source": [
    "# 1. Consider the following array of numbers:\n",
    "import numpy as np\n",
    "\n",
    "number = np.array([1, 5, 6, 2, 2, 2, 6, 9, 101, 55, -1])\n",
    "\n",
    "# 1.1 Find the minimum and maximum numbers in this array:\n",
    "print(\"Min:\", min(number))\n",
    "print(\"Max:\", max(number))\n",
    "\n",
    "# or:\n",
    "\n",
    "print(\"Min:\", number.min())\n",
    "print(\"Max:\", number.max())\n",
    "\n",
    "# or:\n",
    "\n",
    "print(\"Min:\", np.min(number))\n",
    "print(\"Max:\", np.max(number))\n",
    "\n",
    "# 1.2 Find the mean of all the numbers in this array:\n",
    "mean = number.mean()\n",
    "print(\"Mean:\", mean)\n",
    "\n",
    "# 1.3 Find the standard deviation of the numbers in this array:\n",
    "std = number.std()\n",
    "print(\"Standard deviation\", std)\n",
    "\n",
    "# Hint: You can solve all these by using methods of the \"number\" array (e.g., \"number.min()\"),\n",
    "# or methods from NumPy."
   ]
  },
  {
   "cell_type": "code",
   "execution_count": 2,
   "id": "7fc0bbf8",
   "metadata": {},
   "outputs": [
    {
     "name": "stdout",
     "output_type": "stream",
     "text": [
      "log10 of 100 2.0\n",
      "Roots of -3*x² + 2x + 1 = 0: [ 1.         -0.33333333]\n",
      "x = 0.000995012499921876\n",
      "pH = 3.002171463361816\n"
     ]
    }
   ],
   "source": [
    "# 2. For the dissolution of a weak acid in water, we have the following equilibrium\n",
    "# constant:\n",
    "#\n",
    "# Ka = [H+] * [A-] / [HA] = 1e-5\n",
    "#\n",
    "# Assuming that the initial concentration of [HA] is 0.1 we can turn this into the\n",
    "# following equation for the equilibrium concentrations:\n",
    "#\n",
    "# Ka = 1e-5 = x*x / (0.1 - x)\n",
    "#\n",
    "# Solve this equation for the unknown x which is the concentration of H+ ([H+]) and calculate\n",
    "# the pH at equilibrium (pH = -log [H+]):\n",
    "#\n",
    "# Some hints:\n",
    "#\n",
    "# a) The log can be taken using the function log 10 from NumPy:\n",
    "import numpy as np\n",
    "\n",
    "print(\"log10 of 100\", np.log10(100))\n",
    "#\n",
    "# b) You can find the roots of a polynomial using the NumPy method \"roots\" or the\n",
    "# more general \"fsolve\" method from scipy\n",
    "# Example with roots: Let us say we are looking for the roots of -3 * x² + 2x + 1 = 0\n",
    "# then we can find the roots by giving the roots method the coefficients of the polynomial:\n",
    "p = [-3, 2, 1]\n",
    "print(\"Roots of -3*x² + 2x + 1 = 0:\", np.roots(p))\n",
    "\n",
    "# OK, we are solving: Ka = x*x / (c - x)\n",
    "# written out:\n",
    "# Ka*c - Ka*x -x*x = 0\n",
    "Ka = 1e-5\n",
    "c = 0.1\n",
    "p = [-1, -Ka, Ka * c]\n",
    "solution = np.roots(p)\n",
    "# Let up pick the positive root:\n",
    "\n",
    "x = solution[0] if solution[0] > 0 else solution[1]\n",
    "print(\"x =\", x)\n",
    "\n",
    "pH = -np.log10(x)\n",
    "print(\"pH =\", pH)"
   ]
  },
  {
   "cell_type": "code",
   "execution_count": null,
   "id": "e9d06006",
   "metadata": {},
   "outputs": [],
   "source": [
    "# 3. Consider the following array of numbers:\n",
    "import numpy as np\n",
    "\n",
    "number = np.array([1, 5, 6, 2, 2, 2, 6, 9, 101, 55, -1])\n",
    "\n",
    "# Make a new list with the numbers from this array that are greater than 5. Do this without using a for loop.\n",
    "# Hint: https://python-course.eu/numerical-programming/numpy-boolean-indexing.php\n",
    "\n",
    "number5 = number[number > 5]\n",
    "print(\"Greater than 5\", number5)"
   ]
  },
  {
   "cell_type": "code",
   "execution_count": 3,
   "id": "2c6f2298",
   "metadata": {},
   "outputs": [
    {
     "name": "stdout",
     "output_type": "stream",
     "text": [
      "[ 1.   1.5  2.   2.5  3.   3.5  4.   4.5  5.   5.5  6.   6.5  7.   7.5\n",
      "  8.   8.5  9.   9.5 10. ]\n"
     ]
    }
   ],
   "source": [
    "# 4. Create a NumPy array containing numbers from 1 to (and including) 10 in steps of 0.5:\n",
    "# Hint use \"arange()\" from NumPy\n",
    "\n",
    "numbers = np.arange(1, 10 + 0.5, 0.5)\n",
    "print(numbers)"
   ]
  },
  {
   "cell_type": "code",
   "execution_count": null,
   "id": "83bea570",
   "metadata": {},
   "outputs": [],
   "source": [
    "# 5. Create a NumPy array containing 100 evenly spaced numbers between 1 and 10 (including 10):\n",
    "# Hint use \"linspace\" from NumPy\n",
    "numbers = np.linspace(1, 10, 100)\n",
    "print(numbers)\n",
    "print(\"Length:\", len(numbers))"
   ]
  },
  {
   "cell_type": "code",
   "execution_count": null,
   "id": "0cc67a5c",
   "metadata": {},
   "outputs": [],
   "source": [
    "# 6. Create a numpy array containing 100 evenly spaced numbers between -π and +π and calculate the cosine and sine\n",
    "# of these values:\n",
    "x = np.linspace(-np.pi, np.pi, 100)\n",
    "cosine = np.cos(x)\n",
    "sine = np.sin(x)"
   ]
  },
  {
   "cell_type": "code",
   "execution_count": 4,
   "id": "70db5f4e",
   "metadata": {},
   "outputs": [
    {
     "data": {
      "text/plain": [
       "<matplotlib.legend.Legend at 0x1ece09185d0>"
      ]
     },
     "execution_count": 4,
     "metadata": {},
     "output_type": "execute_result"
    },
    {
     "data": {
      "image/png": "[encoded data removed]",
      "text/plain": [
       "<Figure size 640x480 with 1 Axes>"
      ]
     },
     "metadata": {},
     "output_type": "display_data"
    }
   ],
   "source": [
    "# 7. Plot the cosine and sine you just calculated as a function of the array you created\n",
    "# (the one with 100 evenly spaced numbers between -π and +π):\n",
    "\n",
    "# Hint: Use matplotlib for the plotting:\n",
    "from matplotlib import pyplot as plt\n",
    "\n",
    "x = np.linspace(-np.pi, np.pi, 100)\n",
    "cosine = np.cos(x)\n",
    "sine = np.sin(x)\n",
    "\n",
    "plt.plot(x, cosine, label=\"cos(x)\")\n",
    "plt.plot(x, sine, label=\"sin(x)\")\n",
    "plt.legend()"
   ]
  },
  {
   "cell_type": "markdown",
   "id": "019295b1",
   "metadata": {},
   "source": [
    "## Part 4: Reading data and plotting"
   ]
  },
  {
   "cell_type": "code",
   "execution_count": null,
   "id": "a31b5f5e",
   "metadata": {},
   "outputs": [],
   "source": [
    "# 1. The file \"Data/somedata1.txt\" contains some numerical data in two columns.\n",
    "# The first column contains the x-values and the second the y-values.\n",
    "# Read this file and plot the x- and y-values in a scatter plot\n",
    "# Hint: Use np.loadtxt() or pandas.read_csv to read in the file."
   ]
  },
  {
   "cell_type": "markdown",
   "id": "6e619d9d",
   "metadata": {},
   "source": [
    "If you want to have a look at the file, it is here: [./somedata1.txt](./somedata1.txt)"
   ]
  },
  {
   "cell_type": "code",
   "execution_count": null,
   "id": "e32add76",
   "metadata": {},
   "outputs": [],
   "source": [
    "# With pandas:\n",
    "import pandas as pd\n",
    "from matplotlib import pyplot as plt\n",
    "\n",
    "data = pd.read_csv(\"somedata1.txt\")\n",
    "\n",
    "fig1, ax1 = plt.subplots()\n",
    "ax1.scatter(data[\"x\"], data[\"y\"])"
   ]
  },
  {
   "cell_type": "code",
   "execution_count": null,
   "id": "4ebe4ae2",
   "metadata": {},
   "outputs": [],
   "source": [
    "# With numpy:\n",
    "import numpy as np\n",
    "\n",
    "X = np.loadtxt(\"somedata1.txt\", skiprows=1, delimiter=\",\")\n",
    "fig2, ax2 = plt.subplots()\n",
    "ax2.scatter(X[:, 0], X[:, 1])"
   ]
  },
  {
   "cell_type": "code",
   "execution_count": null,
   "id": "3dc2aa21",
   "metadata": {},
   "outputs": [],
   "source": [
    "# 2. The file \"somedata2.txt\" contains the same data as \"somedata1.txt\", but it is stored differently.\n",
    "# Each line contains a pair of x- and y-values on the form:\n",
    "# x = 55.3846, y = 97.1795\n",
    "# Make a method that reads in this file and extracts the x- and y-values. Plot the x- and y-values\n",
    "# you extracted from \"somedata2.txt\" in a scatter plot:"
   ]
  },
  {
   "cell_type": "markdown",
   "id": "3a5ed9fb",
   "metadata": {},
   "source": [
    "If you want to have a look at the file, it is here: [./somedata2.txt](./somedata2.txt)"
   ]
  },
  {
   "cell_type": "code",
   "execution_count": 5,
   "id": "4192f428",
   "metadata": {},
   "outputs": [
    {
     "data": {
      "text/plain": [
       "<matplotlib.collections.PathCollection at 0x1ece0bbedd0>"
      ]
     },
     "execution_count": 5,
     "metadata": {},
     "output_type": "execute_result"
    },
    {
     "data": {
      "image/png": "[encoded data removed]",
      "text/plain": [
       "<Figure size 640x480 with 1 Axes>"
      ]
     },
     "metadata": {},
     "output_type": "display_data"
    }
   ],
   "source": [
    "x, y = [], []\n",
    "with open(\"somedata2.txt\", \"r\") as infile:\n",
    "    for lines in infile:\n",
    "        split = lines.split()\n",
    "        xi = float(split[2].split(\",\")[0])\n",
    "        yi = float(split[5])\n",
    "        x.append(xi)\n",
    "        y.append(yi)\n",
    "\n",
    "fig3, ax3 = plt.subplots()\n",
    "ax3.scatter(x, y)"
   ]
  },
  {
   "cell_type": "markdown",
   "id": "f96d9029",
   "metadata": {},
   "source": [
    "## Part 5: A short introduction to Pandas, NumPy, and Matplotlib\n",
    "\n",
    "This is a short introduction to using Pandas, NumPy, and Matplotlib. Here, we are going to load an Excel file containing a measured rate constant ($k$) at different temperatures ($T$). The temperature is in Kelvin and the rate constant has units of M$^{1/2}~\\text{s}$. The Excel file is located at [./rate_constant.xlsx](./rate_constant.xlsx).\n",
    "\n",
    "You may recall that we expect the rate constant to follow the [Arrhenius equation](https://en.wikipedia.org/wiki/Arrhenius_equation):\n",
    "\n",
    "\\begin{equation}\n",
    "k = A \\text{e}^{\\frac{-E_\\text{a}}{RT}}\n",
    "\\end{equation}\n",
    "\n",
    "where $A$ is a pre-exponential factor, $E_\\text{a}$ the activation energy, and $R = 8.3145$ J/K mol is the gas constant. According to this equation, we should have an exponential relation between $k$ and the (inverse) temperature. Or, if we take the natural logarithm of this equation,\n",
    "\n",
    "\\begin{equation}\n",
    "\\ln k = \\ln A -\\frac{E_\\text{a}}{RT}\n",
    "\\end{equation}\n",
    "\n",
    "we get a linear relationship between the logarithm of $k$ and the inverse temperature ($1/T$). We shall make some plots here to see if this is the case.\n",
    "\n",
    "For doing this we will use three Python libraries:\n",
    "* [Pandas](https://pandas.pydata.org/) for loading the raw data.\n",
    "* [NumPy](https://numpy.org/) for working with numerical arrays and mathematics.\n",
    "* [Matplotlib](https://matplotlib.org/) for plotting and making figures.\n",
    "\n",
    "We start by loading these libraries:"
   ]
  },
  {
   "cell_type": "code",
   "execution_count": null,
   "id": "8f53f4f8",
   "metadata": {},
   "outputs": [],
   "source": [
    "import numpy as np\n",
    "import pandas as pd\n",
    "from matplotlib import pyplot as plt\n",
    "\n",
    "plt.style.use(\"fast\")\n",
    "%matplotlib inline"
   ]
  },
  {
   "cell_type": "markdown",
   "id": "62f5611b",
   "metadata": {},
   "source": [
    "There are two extra lines in the code above:\n",
    "1. `plt.style.use(\"fast\")` which changes the style of the plots produced. There is a list of predefined styles in the [matplotlib documentation](https://matplotlib.org/stable/gallery/style_sheets/style_sheets_reference.html). Here, you can experiment with different styles, perhaps `ggplot` is more to your liking? You can also define your [own styles](https://matplotlib.org/stable/tutorials/introductory/customizing.html) or import styles that others have created. [Here is a collection of styles for scientific figures](https://github.com/garrettj403/SciencePlots) which may come in handy for your next nature paper.\n",
    "\n",
    "2. `%matplotlib notebook` which makes the plots interactive (so that we can zoom and pan).\n",
    "\n",
    "We will load the Excel file using Pandas. This will give us a Pandas [DataFrame](https://pandas.pydata.org/docs/reference/api/pandas.DataFrame.html), which is, to quote Pandas, a:\n",
    "\n",
    "> Two-dimensional, size-mutable, potentially heterogeneous tabular data.\n",
    "\n",
    "Essentially, it is a table containing the data. Let us load it and show the contents:"
   ]
  },
  {
   "cell_type": "code",
   "execution_count": null,
   "id": "2204db76",
   "metadata": {},
   "outputs": [],
   "source": [
    "data = pd.read_excel(\"rate_constant.xlsx\")\n",
    "data"
   ]
  },
  {
   "cell_type": "markdown",
   "id": "881ab1c0",
   "metadata": {},
   "source": [
    "We see here, that we have two columns: `\"rate constant\"` and `\"temperature\"`. We can access the columns as follows:"
   ]
  },
  {
   "cell_type": "code",
   "execution_count": null,
   "id": "4cf2d7b8",
   "metadata": {},
   "outputs": [],
   "source": [
    "data[\"rate constant\"]"
   ]
  },
  {
   "cell_type": "code",
   "execution_count": null,
   "id": "73705efe",
   "metadata": {},
   "outputs": [],
   "source": [
    "data[\"temperature\"]"
   ]
  },
  {
   "cell_type": "markdown",
   "id": "d083d071",
   "metadata": {},
   "source": [
    "The code above gives us a new Pandas DataFrame with a single column. If we are only interested in the actual values, we can get those in the following way:"
   ]
  },
  {
   "cell_type": "code",
   "execution_count": null,
   "id": "e285d70f",
   "metadata": {},
   "outputs": [],
   "source": [
    "temperature = data[\"temperature\"].values\n",
    "print(temperature, \"Type:\", type(temperature))"
   ]
  },
  {
   "cell_type": "markdown",
   "id": "6670a16d",
   "metadata": {},
   "source": [
    "The code above returns the temperature as a NumPy array. This is handy since we then can do NumPy-type operations. For instance, we could check what the largest and smallest temperatures are:"
   ]
  },
  {
   "cell_type": "code",
   "execution_count": null,
   "id": "05cdcba9",
   "metadata": {},
   "outputs": [],
   "source": [
    "print(\"Largest temperature:\", temperature.max())\n",
    "print(\"Smallest temperature:\", temperature.min())"
   ]
  },
  {
   "cell_type": "markdown",
   "id": "a5da90de",
   "metadata": {},
   "source": [
    "Or, since we are probably going to use the inverse temperature, we can calculate that:"
   ]
  },
  {
   "cell_type": "code",
   "execution_count": null,
   "id": "be3f575d",
   "metadata": {},
   "outputs": [],
   "source": [
    "inverse_temperature = 1.0 / temperature\n",
    "print(inverse_temperature)"
   ]
  },
  {
   "cell_type": "markdown",
   "id": "e20c06f3",
   "metadata": {},
   "source": [
    "We can add the inverse temperature to our original data table by doing:"
   ]
  },
  {
   "cell_type": "code",
   "execution_count": null,
   "id": "f1b926e1",
   "metadata": {},
   "outputs": [],
   "source": [
    "data[\"inverse temperature\"] = 1.0 / data[\"temperature\"]\n",
    "data"
   ]
  },
  {
   "cell_type": "markdown",
   "id": "3b4f5faa",
   "metadata": {},
   "source": [
    "**Task for you**: Add a new column with the logarithm of the rate constant to the table. For calculating the logarithm, you can use the method `np.log()` from NumPy:"
   ]
  },
  {
   "cell_type": "code",
   "execution_count": null,
   "id": "b763543f",
   "metadata": {},
   "outputs": [],
   "source": [
    "# Write your code here to add a new column with the logarithm of the rate constant to the table.\n",
    "data[\"lnK\"] = np.log(data[\"rate constant\"])"
   ]
  },
  {
   "cell_type": "markdown",
   "id": "1f9ef5c3",
   "metadata": {},
   "source": [
    "We will now plot the rate constant as a function of the temperature:\n",
    "\n",
    "1. We create an empty figure and two axes for plotting.\n",
    "2. We add a scatter plot to the first axis by using the axis method `scatter()`:"
   ]
  },
  {
   "cell_type": "code",
   "execution_count": null,
   "id": "98f87b76",
   "metadata": {},
   "outputs": [],
   "source": [
    "# We then create a figure as follows:\n",
    "fig, (ax1, ax2) = plt.subplots(\n",
    "    constrained_layout=True,\n",
    "    ncols=2, # Two columns\n",
    "    figsize=(8, 4)  # Set the size of the figure\n",
    ")\n",
    "# We set constrained layout to be True above to remove some white borders\n",
    "# and to make sure that all text is visible\n",
    "ax1.scatter(data[\"temperature\"], data[\"rate constant\"]);\n",
    "ax1.set(xlabel=\"Temperature (K)\", ylabel=\"Rate constant (M$^1/2$)s\", title=\"Arrhenius\");"
   ]
  },
  {
   "cell_type": "markdown",
   "id": "cf1dd17f",
   "metadata": {},
   "source": [
    "**Task for you:** To the second plot above, add a new scatter plot where you use\n",
    "the inverse temperature for the x-axis and the logarithm of the rate constant for the y-axis.\n",
    "Change the labels on the x- and y-axes according to what you plot, and add\n",
    "a descriptive figure title. You can also experiment with colors, symbol types, etc.\n",
    "\n",
    "But let us not forget the science: Does it look like the logarithm of the rate constant varies linearly with the inverse temperature?"
   ]
  },
  {
   "cell_type": "code",
   "execution_count": null,
   "id": "30fade3e",
   "metadata": {},
   "outputs": [],
   "source": [
    "# Add your code here, some hints:\n",
    "ax2.scatter(data[\"inverse temperature\"], data[\"lnK\"])\n",
    "ax2.set(xlabel=\"1/T (K⁻¹)\", ylabel=\"ln K\", title=\"Logarithmic scale\")"
   ]
  },
  {
   "cell_type": "markdown",
   "id": "8f95abb2",
   "metadata": {},
   "source": [
    "Let us see if we can determine the activation energy. From the logarithmic version of the\n",
    "Arrhenius equation, we see that the slope for the plot you just made is $-\\frac{E_\\text{a}}{R}$.\n",
    "\n",
    "In TKJ4175 you will (soon!) learn more about least squares regression. We can use least squares regression here to find the straight line that best approximates the data in the plot you made, and we can extract the slope\n",
    "from this line. Let us jump ahead and do that here with NumPy.\n",
    "\n",
    "NumPy has a convenient function for doing this, and it is called [polyfit](https://numpy.org/doc/stable/reference/generated/numpy.polyfit.html). It can be used as follows:\n",
    "\n",
    "```python\n",
    "p = np.polyfit(x, y, deg)\n",
    "```\n",
    "\n",
    "Where `x` and `y` are the values (x and y) we use for the fitting and `deg` is a number that tells NumPy what kind of polynomial to fit. For instance, if we put the number `1` in place of `deg` we will get a straight line. If we put the number `2` in place of `deg` we will get a second-order polynomial.\n",
    "\n",
    "The parameters of the fitted are returned and here stored in the variable `p`.\n",
    "In general, `polyfit` can be used to fit a polynomial of order `deg` and the parameters are returned in the following order:\n",
    "\n",
    "```python\n",
    "p(x) = p[0] * x**deg + x[1] * x**(deg - 1) + ... + p[deg]\n",
    "```\n",
    "\n",
    "Translated to the case where we fit a straight line (`deg = 1`) we get:\n",
    "\n",
    "```python\n",
    "p(x) = p[0] * x + p[1]\n",
    "```\n",
    "\n",
    "That is: `p[0]` will contain the slope and `p[1]` will contain the intersection (constant term) in the straight line."
   ]
  },
  {
   "cell_type": "markdown",
   "id": "a0de247b",
   "metadata": {},
   "source": [
    "**Task for you:** Modify the code below so that you fit the logarithm of the rate constant to the inverse\n",
    "temperature. If things work out correctly, you should find that the activation energy is around 180 kJ/mol."
   ]
  },
  {
   "cell_type": "code",
   "execution_count": null,
   "id": "46e9320b",
   "metadata": {},
   "outputs": [],
   "source": [
    "p = np.polyfit(data[\"inverse temperature\"], data[\"lnK\"], deg=1)\n",
    "print(f\"The equation is: {p[0]:.4f}*x + {p[1]:.4f}\")\n",
    "Ea = -p[0] * 8.3145\n",
    "print(f\"Activation energy = {Ea/1000:3g} kJ/mol\")"
   ]
  },
  {
   "cell_type": "markdown",
   "id": "bcdd88e3",
   "metadata": {},
   "source": [
    "Finally, let us add the line you just fitted to the plot above.\n",
    "NumPy has a method to evaluate the polynomial (for us: the straight line). This method is called [polyval](https://numpy.org/doc/stable/reference/generated/numpy.polyval.html):\n",
    "\n",
    "```python\n",
    "yline = np.polyval(p, x)\n",
    "```\n",
    "\n",
    "This method will evaluate a polynomial with parameters `p` at the given `x` values."
   ]
  },
  {
   "cell_type": "markdown",
   "id": "c63985b2",
   "metadata": {},
   "source": [
    "**Task for you:** Run the code below so that you add your straight line to the plot above. Is the line a good fit?"
   ]
  },
  {
   "cell_type": "code",
   "execution_count": null,
   "id": "4e5c6d08",
   "metadata": {},
   "outputs": [],
   "source": [
    "# Calculate the y-values for the straight line:\n",
    "x = np.linspace(1./810., 1./700., 10)  # Make 10 points equally spaced in the temperature range.\n",
    "yline = np.polyval(p, x)\n",
    "ax2.plot(\n",
    "    x, yline, label=\"Fitted line\", color=\"xkcd:melon\", linewidth=3, ls=\"--\"\n",
    ")\n",
    "ax2.legend()"
   ]
  },
  {
   "cell_type": "markdown",
   "id": "25273222",
   "metadata": {},
   "source": [
    "> Is the line a good fit?\n",
    "\n",
    "Yes, it sure looks like a straight line."
   ]
  },
  {
   "cell_type": "markdown",
   "id": "bf12a36e",
   "metadata": {},
   "source": [
    "## Part 6: Using pandas on penguins\n",
    "\n",
    "The file [./penguins.csv](./penguins.csv) contains data\n",
    "from a research paper by [Gorman, Williams, and Fraser](https://journals.plos.org/plosone/article?id=10.1371/journal.pone.0090081) on penguins. For individual penguins, the researchers have determined their species and sex and measured their bill length, bill depth, flipper length, and body mass (see Fig. 1 below).\n",
    "\n",
    "We will here use [pandas](https://pandas.pydata.org/) to explore this data. Later in the course, we\n",
    "will try to predict the species of penguins, based on the measured variables. Here, you will find some\n",
    "example code and some tasks. The tasks are marked like this: \n",
    "\n",
    "**Task for you:** Look at the picture below!\n",
    "\n",
    "\n",
    "| <img src=\"bill.png\" width=\"50%\">                                   |\n",
    "|:-:|\n",
    "| **Fig. 1** *Illustration of bill length, bill depth, and flipper length. (The foot is not used in this data set.)*    |"
   ]
  },
  {
   "cell_type": "markdown",
   "id": "02c16617",
   "metadata": {},
   "source": [
    "We can load the data with pandas\n",
    " as follows:"
   ]
  },
  {
   "cell_type": "code",
   "execution_count": null,
   "id": "942f7a93",
   "metadata": {},
   "outputs": [],
   "source": [
    "import pandas as pd\n",
    "%matplotlib inline\n",
    "\n",
    "data = pd.read_csv(\"penguins.csv\")\n",
    "data.head()  # Show the first couple of penguins, if you remove \".head()\" you can display more of the data"
   ]
  },
  {
   "cell_type": "markdown",
   "id": "058df463",
   "metadata": {},
   "source": [
    "As you can see from the table above, we have 7 columns with titles here.\n",
    "Each row is a measurement for\n",
    "a single penguin for the 7 variables found in the columns:\n",
    "\n",
    "\n",
    "| Column            |  Description                                                        |\n",
    "|:------------------|--------------------------------------------------------------------:|\n",
    "| species           | The species (Adelie/Chinstrap/Gentoo)                               |\n",
    "| island            | The island where the observation was made (Dream/Torgersen/Biscoe)  |\n",
    "| bill_length_mm    | (See the illustration above) (measured in mm)                       |\n",
    "| bill_depth_mm     | (See the illustration above) (measured in mm)                       |\n",
    "| flipper_length_mm | (See the illustration above) (measured in mm)                       |\n",
    "| body_mass_g       | The weight of the penguin (in grams)                                |\n",
    "| sex               | Female/Male                                                         |"
   ]
  },
  {
   "cell_type": "markdown",
   "id": "5b2af608",
   "metadata": {},
   "source": [
    "With pandas, we can work directly on the columns. Here is an example that calculates the body\n",
    "mass in kg:"
   ]
  },
  {
   "cell_type": "code",
   "execution_count": null,
   "id": "d0c88253",
   "metadata": {},
   "outputs": [],
   "source": [
    "data[\"body_mass_kg\"] = data[\"body_mass_g\"] / 1000.\n",
    "data.head()"
   ]
  },
  {
   "cell_type": "markdown",
   "id": "acfcc5b2",
   "metadata": {},
   "source": [
    "**Task for you:** Add a new column with the bill depth divided by the flipper length:"
   ]
  },
  {
   "cell_type": "code",
   "execution_count": null,
   "id": "b849855a",
   "metadata": {},
   "outputs": [],
   "source": [
    "data[\"fraction\"] = data[\"bill_depth_mm\"] / data[\"flipper_length_mm\"]"
   ]
  },
  {
   "cell_type": "markdown",
   "id": "19802de1",
   "metadata": {},
   "source": [
    "We can also do selections, for instance:"
   ]
  },
  {
   "cell_type": "code",
   "execution_count": null,
   "id": "d83de44e",
   "metadata": {},
   "outputs": [],
   "source": [
    "data[data[\"flipper_length_mm\"] >= 230]  # Select penguins with a flipper length greater than 230 mm:"
   ]
  },
  {
   "cell_type": "code",
   "execution_count": null,
   "id": "f55d936f",
   "metadata": {},
   "outputs": [],
   "source": [
    "data[data[\"species\"] == \"Gentoo\"].head()  # Select penguins of the Gentoo species:"
   ]
  },
  {
   "cell_type": "markdown",
   "id": "0d39b588",
   "metadata": {},
   "source": [
    "Pandas has a convenient method [describe](https://pandas.pydata.org/docs/reference/api/pandas.DataFrame.describe.html) for data frames that can be used to summarize the columns:"
   ]
  },
  {
   "cell_type": "code",
   "execution_count": null,
   "id": "1f49605d",
   "metadata": {},
   "outputs": [],
   "source": [
    "data.describe()"
   ]
  },
  {
   "cell_type": "markdown",
   "id": "fed9ce94",
   "metadata": {},
   "source": [
    "This can be used together with selections, for instance:"
   ]
  },
  {
   "cell_type": "code",
   "execution_count": null,
   "id": "72768ab4",
   "metadata": {},
   "outputs": [],
   "source": [
    "data[data[\"species\"] == \"Gentoo\"].describe()  # Select penguins of the Gentoo species and summarize:"
   ]
  },
  {
   "cell_type": "markdown",
   "id": "57d83e85",
   "metadata": {},
   "source": [
    "**Task for you:** Use selections and `describe()` to show a summary for female and a summary for male penguins. Are there\n",
    "any obvious differences?"
   ]
  },
  {
   "cell_type": "code",
   "execution_count": null,
   "id": "0da541e2",
   "metadata": {},
   "outputs": [],
   "source": [
    "data[data[\"sex\"] == \"male\"].describe()"
   ]
  },
  {
   "cell_type": "code",
   "execution_count": null,
   "id": "31493c71",
   "metadata": {},
   "outputs": [],
   "source": [
    "data[data[\"sex\"] == \"female\"].describe()"
   ]
  },
  {
   "cell_type": "markdown",
   "id": "58795d0e",
   "metadata": {},
   "source": [
    "> Are there any obvious differences?\n",
    "\n",
    "Maybe? Judging from the means: male penguins seem to be bigger, but the standard deviations are quite large."
   ]
  },
  {
   "cell_type": "markdown",
   "id": "9f7eff5e",
   "metadata": {},
   "source": [
    "With pandas, we can also group data. The task above can also be solved by\n",
    "first grouping the penguins:"
   ]
  },
  {
   "cell_type": "code",
   "execution_count": null,
   "id": "b28601e2",
   "metadata": {},
   "outputs": [],
   "source": [
    "group = data.groupby([\"sex\"])\n",
    "group.describe().T\n",
    "# The .T is added here to transpose the table (swap rows/columns\n",
    "# to make it easier to read - you can try without the .T)"
   ]
  },
  {
   "cell_type": "markdown",
   "id": "20693d5e",
   "metadata": {},
   "source": [
    "There is not a big difference between the mean values for male and female penguins - the\n",
    "means are different, but the standard deviations (the *std* values) are also quite large.\n",
    "Perhaps the difference between species is a bigger influence. We can check this\n",
    "by grouping by both species and sex:"
   ]
  },
  {
   "cell_type": "code",
   "execution_count": null,
   "id": "04b8ab36",
   "metadata": {},
   "outputs": [],
   "source": [
    "group = data.groupby([\"species\", \"sex\"])\n",
    "group[\"flipper_length_mm\"].describe()  # Print out info about the flipper length"
   ]
  },
  {
   "cell_type": "markdown",
   "id": "3f2a3079",
   "metadata": {},
   "source": [
    "We will soon try to make some plots to see if there is a difference\n",
    "between the different penguin species. But first, here are some short tasks for you:"
   ]
  },
  {
   "cell_type": "markdown",
   "id": "6b068613",
   "metadata": {},
   "source": [
    "**Task for you:** For the data we have loaded, verify the following:\n",
    "\n",
    "1. We have data from three distinct islands (Dream, Torgersen, and Biscoe).\n",
    "\n",
    "1. We have data from three different penguin species (Adelie, Chinstrap, and Gentoo).\n",
    "   How many are there of each type?\n",
    "\n",
    "1. On the island of Dream, the only species are Adelie and Chinstrap.\n",
    "\n",
    "1. On the island of Torgersen, the only specie is Adelie.\n",
    "\n",
    "1. On the island of Biscoe, the only species are Adelie and Gentoo.\n",
    "\n",
    "Hint: This can be done with selections and grouping. For a grouping, you can\n",
    "also use ``group.size()`` to print out the number of penguins in each group."
   ]
  },
  {
   "cell_type": "code",
   "execution_count": null,
   "id": "43ed76fa",
   "metadata": {},
   "outputs": [],
   "source": [
    "# 1. The islands:\n",
    "data[\"island\"].unique()"
   ]
  },
  {
   "cell_type": "code",
   "execution_count": null,
   "id": "238e910c",
   "metadata": {},
   "outputs": [],
   "source": [
    "# 2. The species (and numbers)\n",
    "data.groupby(\"species\").size()"
   ]
  },
  {
   "cell_type": "code",
   "execution_count": null,
   "id": "b7e2de55",
   "metadata": {},
   "outputs": [],
   "source": [
    "# 3. On Dream:\n",
    "data[data[\"island\"] == \"Dream\"].groupby(\"species\").size()"
   ]
  },
  {
   "cell_type": "code",
   "execution_count": null,
   "id": "c5621d6e",
   "metadata": {},
   "outputs": [],
   "source": [
    "# 4. On Torgersen:\n",
    "data[data[\"island\"] == \"Torgersen\"].groupby(\"species\").size()"
   ]
  },
  {
   "cell_type": "code",
   "execution_count": null,
   "id": "6415fa52",
   "metadata": {},
   "outputs": [],
   "source": [
    "# 5. On Biscoe:\n",
    "data[data[\"island\"] == \"Biscoe\"].groupby(\"species\").size()"
   ]
  },
  {
   "cell_type": "markdown",
   "id": "13a0b7ab",
   "metadata": {},
   "source": [
    "We will now make some plots to check if there is a difference between the different\n",
    "penguins. One way to look for differences is to compare distributions, say for the flipper length,\n",
    "for the different species.\n",
    "\n",
    "Pandas has many methods for [visualization](https://pandas.pydata.org/docs/user_guide/visualization.html).\n",
    "We will use some of these together with [seaborn](https://seaborn.pydata.org/) here (seaborn is another\n",
    "plotting library with many convenient plots). Let us start with creating\n",
    "a histogram for the flipper length:"
   ]
  },
  {
   "cell_type": "code",
   "execution_count": null,
   "id": "40e688cc",
   "metadata": {},
   "outputs": [],
   "source": [
    "group = data.groupby([\"species\"])\n",
    "# pandas will just reuse any old axis, so we create a fresh one:\n",
    "fig, ax = plt.subplots(constrained_layout=True)\n",
    "group[\"flipper_length_mm\"].hist(legend=True, grid=False, ax=ax)"
   ]
  },
  {
   "cell_type": "markdown",
   "id": "61dcc34a",
   "metadata": {},
   "source": [
    "Histograms can be difficult to read. An alternative is\n",
    "a [kernel density estimation (KDE)](https://en.wikipedia.org/wiki/Kernel_density_estimation). The KDE\n",
    "tries to estimate the probability density function as a smooth function and can be easier to interpret.\n",
    "We can make such plots with pandas and `data.plot(kind=\"kde\")`. Here we will try to make it using the\n",
    "[seaborn](https://seaborn.pydata.org/) library. Seaborn has many convenient methods for making plots\n",
    "that usually looks quite nice:"
   ]
  },
  {
   "cell_type": "code",
   "execution_count": null,
   "id": "becdfeac",
   "metadata": {},
   "outputs": [],
   "source": [
    "import seaborn as sns\n",
    "from matplotlib import pyplot as plt\n",
    "\n",
    "sns.set_context(\"notebook\")  # apply some automatic seaborn styling for jupyter notebooks"
   ]
  },
  {
   "cell_type": "code",
   "execution_count": null,
   "id": "442359f3",
   "metadata": {},
   "outputs": [],
   "source": [
    "fig, ax = plt.subplots(constrained_layout=True)\n",
    "sns.kdeplot(data=data, x=\"flipper_length_mm\", hue=\"species\", ax=ax)\n",
    "# Note: We don't have to group the data here, we just say that we color (set the \"hue\")\n",
    "# by the \"species\" column."
   ]
  },
  {
   "cell_type": "markdown",
   "id": "b5cf832b",
   "metadata": {},
   "source": [
    "Another way to visualize distributions is by using a [box plot](https://builtin.com/data-science/boxplot) which is\n",
    "based on a [five-number summary](https://en.wikipedia.org/wiki/Five-number_summary):\n",
    "\n",
    "![box](box.png)"
   ]
  },
  {
   "cell_type": "code",
   "execution_count": null,
   "id": "6dcc8c5a",
   "metadata": {},
   "outputs": [],
   "source": [
    "fig, ax = plt.subplots(constrained_layout=True)\n",
    "sns.boxplot(\n",
    "    data=data,\n",
    "    x=\"species\",\n",
    "    y=\"flipper_length_mm\",\n",
    "    hue=\"sex\",\n",
    "    order=[\"Adelie\", \"Chinstrap\", \"Gentoo\"],\n",
    "    hue_order=[\"female\", \"male\"],\n",
    "    ax=ax\n",
    ")"
   ]
  },
  {
   "cell_type": "markdown",
   "id": "4c2b7f83",
   "metadata": {},
   "source": [
    "**Task for you:** Below is a more elaborate plot - can you explain what it will show, before running the code?"
   ]
  },
  {
   "cell_type": "code",
   "execution_count": null,
   "id": "9b077302",
   "metadata": {},
   "outputs": [],
   "source": [
    "# Set up a plot (figure and axes) with 4 columns:\n",
    "fig, axes = plt.subplots(constrained_layout=True, ncols=4, figsize=(12, 3))\n",
    "\n",
    "variables = (\"bill_length_mm\", \"bill_depth_mm\", \"flipper_length_mm\", \"body_mass_g\")\n",
    "for i, variable in enumerate(variables):\n",
    "    sns.boxplot(\n",
    "        data=data,\n",
    "        x=\"species\",\n",
    "        y=variable,\n",
    "        hue=\"sex\",\n",
    "        ax=axes[i],\n",
    "        order=[\"Adelie\", \"Chinstrap\", \"Gentoo\"],\n",
    "        hue_order=[\"female\", \"male\"]\n",
    "    )\n",
    "    if i == 0:\n",
    "        axes[i].legend(fontsize=\"small\")\n",
    "    else:\n",
    "        axes[i].get_legend().remove()  # No need to repeat the legend\n",
    "\n",
    "sns.despine(fig=fig)  # Remove right and top spines (box around plot)"
   ]
  },
  {
   "cell_type": "markdown",
   "id": "534ff864",
   "metadata": {},
   "source": [
    "**Task for you:** Copy/modify the code above, and change the plotting from a box-plot to a [stripplot](https://seaborn.pydata.org/generated/seaborn.stripplot.html#seaborn.stripplot).\n",
    "Do you see a difference between the different\n",
    "species of penguins?\n",
    "\n",
    "The [stripplot](https://seaborn.pydata.org/generated/seaborn.stripplot.html#seaborn.stripplot) will show all observations\n",
    "(with some random displacements along the x-axis) and can be\n",
    "used together with the boxplot for interpretations. You can also observe the effect of adding\n",
    "`dodge=True` to your `stripplot(...)` call."
   ]
  },
  {
   "cell_type": "code",
   "execution_count": null,
   "id": "29d64bfb",
   "metadata": {},
   "outputs": [],
   "source": [
    "# Set up a plot (figure and axes) with 4 columns:\n",
    "fig, axes = plt.subplots(constrained_layout=True, ncols=4, figsize=(12, 3))\n",
    "\n",
    "variables = (\"bill_length_mm\", \"bill_depth_mm\", \"flipper_length_mm\", \"body_mass_g\")\n",
    "for i, variable in enumerate(variables):\n",
    "    sns.stripplot(\n",
    "        data=data,\n",
    "        x=\"species\",\n",
    "        y=variable,\n",
    "        hue=\"sex\",\n",
    "        ax=axes[i],\n",
    "        order=[\"Adelie\", \"Chinstrap\", \"Gentoo\"],\n",
    "        hue_order=[\"female\", \"male\"],\n",
    "        dodge=True,\n",
    "    )\n",
    "    if i == 0:\n",
    "        axes[i].legend(fontsize=\"small\")\n",
    "    else:\n",
    "        axes[i].get_legend().remove()  # No need to repeat the legend\n",
    "\n",
    "sns.despine(fig=fig)  # Remove right and top spines (box around plot)"
   ]
  },
  {
   "cell_type": "markdown",
   "id": "7ffeb4d2",
   "metadata": {},
   "source": [
    "**Task for you:** Experiment with the plots above (for instance, try different variables for the KDE-plot). Can you find a set of variables you can use to distinguish the species of penguins?"
   ]
  },
  {
   "cell_type": "code",
   "execution_count": null,
   "id": "a688558a",
   "metadata": {},
   "outputs": [],
   "source": [
    "fig, (ax1, ax2) = plt.subplots(constrained_layout=True, ncols=2, figsize=(8, 4))\n",
    "sns.kdeplot(data=data, x=\"bill_length_mm\", hue=\"species\", ax=ax1)\n",
    "sns.kdeplot(data=data, x=\"flipper_length_mm\", hue=\"species\", ax=ax2)\n",
    "sns.despine(fig=fig)"
   ]
  },
  {
   "cell_type": "markdown",
   "id": "bcbe8ed2",
   "metadata": {},
   "source": [
    "> Can you find a set of variables you can use to distinguish the species of penguins?\n",
    "\n",
    "Maybe we could use bill length to separate out Adelie and then use the flipper length to separate Gentoo from\n",
    "Chinstrap?"
   ]
  },
  {
   "cell_type": "markdown",
   "id": "67f7fb27",
   "metadata": {},
   "source": [
    "So far, we have just been looking at one variable at the same time. What if we try with pairs\n",
    "of variables? From the plot above it seems like Gentoo-penguins are different from the other two species for the bill depth, while the Adelie and Chinstrap are more different for the bill length. Maybe we could use these two\n",
    "variables together to distinguish between the species?\n",
    "\n",
    "\n",
    "Seaborn has a convenient method to plot pairs of variables. This is the \n",
    "[pairplot](https://seaborn.pydata.org/generated/seaborn.pairplot.html). We also refer to this\n",
    "plot as a scatter plot matrix (you can find this in the textbook by Alsberg in chapter 13.3 on page 235).\n",
    "If we have many variables, this can be\n",
    "inconvenient since we then have many combinations of pairs of variables. Later in the course, you\n",
    "will learn about principal component analysis which is a method we can use to reduce\n",
    "the number of variables without losing the most important information in the data.\n",
    "\n",
    "To create the scatter plot matrix, you can do the following:"
   ]
  },
  {
   "cell_type": "code",
   "execution_count": null,
   "id": "8d6d77b2",
   "metadata": {},
   "outputs": [],
   "source": [
    "sns.pairplot(data, hue=\"species\")  # Note: This can be a bit slow..."
   ]
  },
  {
   "cell_type": "markdown",
   "id": "36968e07",
   "metadata": {},
   "source": [
    "**Task for you:** From the plot above, what variables do you think are the best ones for determining the species of penguins?\n",
    "\n",
    "With for instance the bill length and the flipper length (top row, third column) we get some separation of the\n",
    "three species."
   ]
  }
 ],
 "metadata": {
  "kernelspec": {
   "display_name": ".venv",
   "language": "python",
   "name": "python3"
  },
  "language_info": {
   "codemirror_mode": {
    "name": "ipython",
    "version": 3
   },
   "file_extension": ".py",
   "mimetype": "text/x-python",
   "name": "python",
   "nbconvert_exporter": "python",
   "pygments_lexer": "ipython3",
   "version": "3.11.9"
  }
 },
 "nbformat": 4,
 "nbformat_minor": 5
}
